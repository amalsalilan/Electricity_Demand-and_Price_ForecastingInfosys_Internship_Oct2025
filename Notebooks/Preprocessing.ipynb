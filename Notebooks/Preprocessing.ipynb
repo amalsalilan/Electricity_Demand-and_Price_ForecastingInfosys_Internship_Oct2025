{
 "cells": [
  {
   "cell_type": "code",
   "execution_count": 10,
   "id": "3af99f8b",
   "metadata": {},
   "outputs": [],
   "source": [
    "import pandas as pd\n",
    "df=pd.read_csv('complete_dataset.csv')"
   ]
  },
  {
   "cell_type": "markdown",
   "id": "770a4722",
   "metadata": {},
   "source": [
    "# Missing values"
   ]
  },
  {
   "cell_type": "code",
   "execution_count": 11,
   "id": "00b2c6dd",
   "metadata": {},
   "outputs": [
    {
     "name": "stdout",
     "output_type": "stream",
     "text": [
      "missing values: 4\n",
      "cols having those missing values: ['solar_exposure', 'rainfall']\n"
     ]
    }
   ],
   "source": [
    "missing_values=df.isnull().sum().sum() #count\n",
    "print('missing values:', missing_values)\n",
    "cols_having_missing_values=df.columns[df.isnull().any()].tolist()#names\n",
    "print('cols having those missing values:',cols_having_missing_values)"
   ]
  },
  {
   "cell_type": "markdown",
   "id": "f98ccb07",
   "metadata": {},
   "source": [
    "# Object types"
   ]
  },
  {
   "cell_type": "code",
   "execution_count": 12,
   "id": "dd34e762",
   "metadata": {},
   "outputs": [
    {
     "name": "stdout",
     "output_type": "stream",
     "text": [
      "columns having object datatype: ['date', 'school_day', 'holiday']\n"
     ]
    }
   ],
   "source": [
    "object_cols=df.select_dtypes(include='object').columns.tolist()\n",
    "print('columns having object datatype:',object_cols)"
   ]
  },
  {
   "cell_type": "markdown",
   "id": "392c8675",
   "metadata": {},
   "source": [
    "# Date --> Datetime"
   ]
  },
  {
   "cell_type": "code",
   "execution_count": 13,
   "id": "d30ef88f",
   "metadata": {},
   "outputs": [],
   "source": [
    "df['date']=pd.to_datetime(df['date'],errors='coerce')"
   ]
  },
  {
   "cell_type": "markdown",
   "id": "e286fd9e",
   "metadata": {},
   "source": [
    "# One hot encoding"
   ]
  },
  {
   "cell_type": "code",
   "execution_count": 14,
   "id": "1857d0d1",
   "metadata": {},
   "outputs": [],
   "source": [
    "df = pd.get_dummies(df, columns=['school_day', 'holiday'], dtype=int)"
   ]
  },
  {
   "cell_type": "markdown",
   "id": "0f6b8faa",
   "metadata": {},
   "source": [
    "# Simple imputer for missing values.."
   ]
  },
  {
   "cell_type": "code",
   "execution_count": 15,
   "id": "ae2b6b11",
   "metadata": {},
   "outputs": [],
   "source": [
    "from sklearn.impute import SimpleImputer"
   ]
  },
  {
   "cell_type": "code",
   "execution_count": 16,
   "id": "1141fc35",
   "metadata": {},
   "outputs": [],
   "source": [
    "imputer = SimpleImputer(strategy='mean')\n",
    "df[cols_having_missing_values] = imputer.fit_transform(df[cols_having_missing_values])"
   ]
  },
  {
   "cell_type": "code",
   "execution_count": 17,
   "id": "9d5883af",
   "metadata": {},
   "outputs": [],
   "source": [
    "df.to_csv('processed_dataset.csv', index=False)"
   ]
  },
  {
   "cell_type": "markdown",
   "id": "643655f3",
   "metadata": {},
   "source": [
    "# Dataset after cleaning"
   ]
  },
  {
   "cell_type": "code",
   "execution_count": 21,
   "id": "b62096ac",
   "metadata": {},
   "outputs": [
    {
     "name": "stdout",
     "output_type": "stream",
     "text": [
      "missing values: 0\n",
      "columns having object datatype: ['date']\n"
     ]
    }
   ],
   "source": [
    "df1['date']=pd.to_datetime(df1['date'],errors='coerce')\n",
    "import pandas as pd\n",
    "df1=pd.read_csv('processed_dataset.csv')\n",
    "missing_values=df1.isnull().sum().sum() #count\n",
    "print('missing values:', missing_values)\n",
    "\n",
    "object_cols=df1.select_dtypes(include='object').columns.tolist()\n",
    "print('columns having object datatype:',object_cols)"
   ]
  },
  {
   "cell_type": "code",
   "execution_count": 19,
   "id": "22d8bce7",
   "metadata": {},
   "outputs": [
    {
     "data": {
      "text/html": [
       "<div>\n",
       "<style scoped>\n",
       "    .dataframe tbody tr th:only-of-type {\n",
       "        vertical-align: middle;\n",
       "    }\n",
       "\n",
       "    .dataframe tbody tr th {\n",
       "        vertical-align: top;\n",
       "    }\n",
       "\n",
       "    .dataframe thead th {\n",
       "        text-align: right;\n",
       "    }\n",
       "</style>\n",
       "<table border=\"1\" class=\"dataframe\">\n",
       "  <thead>\n",
       "    <tr style=\"text-align: right;\">\n",
       "      <th></th>\n",
       "      <th>demand</th>\n",
       "      <th>RRP</th>\n",
       "      <th>demand_pos_RRP</th>\n",
       "      <th>RRP_positive</th>\n",
       "      <th>demand_neg_RRP</th>\n",
       "      <th>RRP_negative</th>\n",
       "      <th>frac_at_neg_RRP</th>\n",
       "      <th>min_temperature</th>\n",
       "      <th>max_temperature</th>\n",
       "      <th>solar_exposure</th>\n",
       "      <th>rainfall</th>\n",
       "      <th>school_day_N</th>\n",
       "      <th>school_day_Y</th>\n",
       "      <th>holiday_N</th>\n",
       "      <th>holiday_Y</th>\n",
       "    </tr>\n",
       "  </thead>\n",
       "  <tbody>\n",
       "    <tr>\n",
       "      <th>count</th>\n",
       "      <td>2106.000000</td>\n",
       "      <td>2106.000000</td>\n",
       "      <td>2106.000000</td>\n",
       "      <td>2106.000000</td>\n",
       "      <td>2106.000000</td>\n",
       "      <td>2106.000000</td>\n",
       "      <td>2106.000000</td>\n",
       "      <td>2106.000000</td>\n",
       "      <td>2106.000000</td>\n",
       "      <td>2106.000000</td>\n",
       "      <td>2106.000000</td>\n",
       "      <td>2106.000000</td>\n",
       "      <td>2106.000000</td>\n",
       "      <td>2106.000000</td>\n",
       "      <td>2106.000000</td>\n",
       "    </tr>\n",
       "    <tr>\n",
       "      <th>mean</th>\n",
       "      <td>120035.476503</td>\n",
       "      <td>76.079554</td>\n",
       "      <td>119252.305055</td>\n",
       "      <td>76.553847</td>\n",
       "      <td>783.171448</td>\n",
       "      <td>-2.686052</td>\n",
       "      <td>0.008547</td>\n",
       "      <td>11.582289</td>\n",
       "      <td>20.413200</td>\n",
       "      <td>14.743373</td>\n",
       "      <td>1.505944</td>\n",
       "      <td>0.310066</td>\n",
       "      <td>0.689934</td>\n",
       "      <td>0.963438</td>\n",
       "      <td>0.036562</td>\n",
       "    </tr>\n",
       "    <tr>\n",
       "      <th>std</th>\n",
       "      <td>13747.993761</td>\n",
       "      <td>130.246805</td>\n",
       "      <td>14818.631319</td>\n",
       "      <td>130.114184</td>\n",
       "      <td>3578.920686</td>\n",
       "      <td>19.485432</td>\n",
       "      <td>0.039963</td>\n",
       "      <td>4.313711</td>\n",
       "      <td>6.288693</td>\n",
       "      <td>7.943640</td>\n",
       "      <td>4.304827</td>\n",
       "      <td>0.462630</td>\n",
       "      <td>0.462630</td>\n",
       "      <td>0.187729</td>\n",
       "      <td>0.187729</td>\n",
       "    </tr>\n",
       "    <tr>\n",
       "      <th>min</th>\n",
       "      <td>85094.375000</td>\n",
       "      <td>-6.076028</td>\n",
       "      <td>41988.240000</td>\n",
       "      <td>13.568986</td>\n",
       "      <td>0.000000</td>\n",
       "      <td>-342.220000</td>\n",
       "      <td>0.000000</td>\n",
       "      <td>0.600000</td>\n",
       "      <td>9.000000</td>\n",
       "      <td>0.700000</td>\n",
       "      <td>0.000000</td>\n",
       "      <td>0.000000</td>\n",
       "      <td>0.000000</td>\n",
       "      <td>0.000000</td>\n",
       "      <td>0.000000</td>\n",
       "    </tr>\n",
       "    <tr>\n",
       "      <th>25%</th>\n",
       "      <td>109963.650000</td>\n",
       "      <td>38.707040</td>\n",
       "      <td>109246.250000</td>\n",
       "      <td>39.117361</td>\n",
       "      <td>0.000000</td>\n",
       "      <td>0.000000</td>\n",
       "      <td>0.000000</td>\n",
       "      <td>8.500000</td>\n",
       "      <td>15.525000</td>\n",
       "      <td>8.200000</td>\n",
       "      <td>0.000000</td>\n",
       "      <td>0.000000</td>\n",
       "      <td>0.000000</td>\n",
       "      <td>1.000000</td>\n",
       "      <td>0.000000</td>\n",
       "    </tr>\n",
       "    <tr>\n",
       "      <th>50%</th>\n",
       "      <td>119585.912500</td>\n",
       "      <td>66.596738</td>\n",
       "      <td>119148.082500</td>\n",
       "      <td>66.869058</td>\n",
       "      <td>0.000000</td>\n",
       "      <td>0.000000</td>\n",
       "      <td>0.000000</td>\n",
       "      <td>11.300000</td>\n",
       "      <td>19.100000</td>\n",
       "      <td>12.750000</td>\n",
       "      <td>0.000000</td>\n",
       "      <td>0.000000</td>\n",
       "      <td>1.000000</td>\n",
       "      <td>1.000000</td>\n",
       "      <td>0.000000</td>\n",
       "    </tr>\n",
       "    <tr>\n",
       "      <th>75%</th>\n",
       "      <td>130436.006250</td>\n",
       "      <td>95.075012</td>\n",
       "      <td>130119.477500</td>\n",
       "      <td>95.130181</td>\n",
       "      <td>0.000000</td>\n",
       "      <td>0.000000</td>\n",
       "      <td>0.000000</td>\n",
       "      <td>14.600000</td>\n",
       "      <td>23.900000</td>\n",
       "      <td>20.700000</td>\n",
       "      <td>0.800000</td>\n",
       "      <td>1.000000</td>\n",
       "      <td>1.000000</td>\n",
       "      <td>1.000000</td>\n",
       "      <td>0.000000</td>\n",
       "    </tr>\n",
       "    <tr>\n",
       "      <th>max</th>\n",
       "      <td>170653.840000</td>\n",
       "      <td>4549.645105</td>\n",
       "      <td>170653.840000</td>\n",
       "      <td>4549.645105</td>\n",
       "      <td>57597.595000</td>\n",
       "      <td>0.000000</td>\n",
       "      <td>0.625000</td>\n",
       "      <td>28.000000</td>\n",
       "      <td>43.500000</td>\n",
       "      <td>33.300000</td>\n",
       "      <td>54.600000</td>\n",
       "      <td>1.000000</td>\n",
       "      <td>1.000000</td>\n",
       "      <td>1.000000</td>\n",
       "      <td>1.000000</td>\n",
       "    </tr>\n",
       "  </tbody>\n",
       "</table>\n",
       "</div>"
      ],
      "text/plain": [
       "              demand          RRP  demand_pos_RRP  RRP_positive  \\\n",
       "count    2106.000000  2106.000000     2106.000000   2106.000000   \n",
       "mean   120035.476503    76.079554   119252.305055     76.553847   \n",
       "std     13747.993761   130.246805    14818.631319    130.114184   \n",
       "min     85094.375000    -6.076028    41988.240000     13.568986   \n",
       "25%    109963.650000    38.707040   109246.250000     39.117361   \n",
       "50%    119585.912500    66.596738   119148.082500     66.869058   \n",
       "75%    130436.006250    95.075012   130119.477500     95.130181   \n",
       "max    170653.840000  4549.645105   170653.840000   4549.645105   \n",
       "\n",
       "       demand_neg_RRP  RRP_negative  frac_at_neg_RRP  min_temperature  \\\n",
       "count     2106.000000   2106.000000      2106.000000      2106.000000   \n",
       "mean       783.171448     -2.686052         0.008547        11.582289   \n",
       "std       3578.920686     19.485432         0.039963         4.313711   \n",
       "min          0.000000   -342.220000         0.000000         0.600000   \n",
       "25%          0.000000      0.000000         0.000000         8.500000   \n",
       "50%          0.000000      0.000000         0.000000        11.300000   \n",
       "75%          0.000000      0.000000         0.000000        14.600000   \n",
       "max      57597.595000      0.000000         0.625000        28.000000   \n",
       "\n",
       "       max_temperature  solar_exposure     rainfall  school_day_N  \\\n",
       "count      2106.000000     2106.000000  2106.000000   2106.000000   \n",
       "mean         20.413200       14.743373     1.505944      0.310066   \n",
       "std           6.288693        7.943640     4.304827      0.462630   \n",
       "min           9.000000        0.700000     0.000000      0.000000   \n",
       "25%          15.525000        8.200000     0.000000      0.000000   \n",
       "50%          19.100000       12.750000     0.000000      0.000000   \n",
       "75%          23.900000       20.700000     0.800000      1.000000   \n",
       "max          43.500000       33.300000    54.600000      1.000000   \n",
       "\n",
       "       school_day_Y    holiday_N    holiday_Y  \n",
       "count   2106.000000  2106.000000  2106.000000  \n",
       "mean       0.689934     0.963438     0.036562  \n",
       "std        0.462630     0.187729     0.187729  \n",
       "min        0.000000     0.000000     0.000000  \n",
       "25%        0.000000     1.000000     0.000000  \n",
       "50%        1.000000     1.000000     0.000000  \n",
       "75%        1.000000     1.000000     0.000000  \n",
       "max        1.000000     1.000000     1.000000  "
      ]
     },
     "execution_count": 19,
     "metadata": {},
     "output_type": "execute_result"
    }
   ],
   "source": [
    "df1.describe()"
   ]
  },
  {
   "cell_type": "code",
   "execution_count": 20,
   "id": "202f0fcf",
   "metadata": {},
   "outputs": [
    {
     "name": "stdout",
     "output_type": "stream",
     "text": [
      "ADF Test Statistic: -3.9534474821262524\n",
      "p-value: 0.0016748806784636257\n",
      "The series is likely stationary.\n"
     ]
    }
   ],
   "source": [
    "from statsmodels.tsa.stattools import adfuller\n",
    "demand_series = df1[\"demand\"]\n",
    "adf_stat, adf_p_value, _, _, _, _ = adfuller(demand_series)\n",
    "print(f\"ADF Test Statistic: {adf_stat}\")\n",
    "print(f\"p-value: {adf_p_value}\")\n",
    "if adf_p_value < 0.05:\n",
    "    print(\"The series is likely stationary.\")\n",
    "else:\n",
    "    print(\"The series is likely non-stationary.\")"
   ]
  },
  {
   "cell_type": "code",
   "execution_count": null,
   "id": "71c54de9",
   "metadata": {},
   "outputs": [],
   "source": []
  }
 ],
 "metadata": {
  "kernelspec": {
   "display_name": "Python 3 (ipykernel)",
   "language": "python",
   "name": "python3"
  },
  "language_info": {
   "codemirror_mode": {
    "name": "ipython",
    "version": 3
   },
   "file_extension": ".py",
   "mimetype": "text/x-python",
   "name": "python",
   "nbconvert_exporter": "python",
   "pygments_lexer": "ipython3",
   "version": "3.11.4"
  }
 },
 "nbformat": 4,
 "nbformat_minor": 5
}
