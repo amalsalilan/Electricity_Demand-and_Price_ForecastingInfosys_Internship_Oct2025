{
 "cells": [
  {
   "cell_type": "code",
   "execution_count": 1,
   "id": "d6bacab8-6975-4892-abab-6ee869bd77d5",
   "metadata": {},
   "outputs": [],
   "source": [
    "import pandas as pd"
   ]
  },
  {
   "cell_type": "code",
   "execution_count": 2,
   "id": "4e691411-793a-48bb-b6f4-a855ae4eeb73",
   "metadata": {},
   "outputs": [],
   "source": [
    "data = pd.read_csv('./Data/raw/Australian Dataset/complete_dataset.csv')"
   ]
  },
  {
   "cell_type": "code",
   "execution_count": 3,
   "id": "58b6678c-63b2-432a-bc43-6ab2d4977c7f",
   "metadata": {},
   "outputs": [
    {
     "data": {
      "text/html": [
       "<div>\n",
       "<style scoped>\n",
       "    .dataframe tbody tr th:only-of-type {\n",
       "        vertical-align: middle;\n",
       "    }\n",
       "\n",
       "    .dataframe tbody tr th {\n",
       "        vertical-align: top;\n",
       "    }\n",
       "\n",
       "    .dataframe thead th {\n",
       "        text-align: right;\n",
       "    }\n",
       "</style>\n",
       "<table border=\"1\" class=\"dataframe\">\n",
       "  <thead>\n",
       "    <tr style=\"text-align: right;\">\n",
       "      <th></th>\n",
       "      <th>date</th>\n",
       "      <th>demand</th>\n",
       "      <th>RRP</th>\n",
       "      <th>demand_pos_RRP</th>\n",
       "      <th>RRP_positive</th>\n",
       "      <th>demand_neg_RRP</th>\n",
       "      <th>RRP_negative</th>\n",
       "      <th>frac_at_neg_RRP</th>\n",
       "      <th>min_temperature</th>\n",
       "      <th>max_temperature</th>\n",
       "      <th>solar_exposure</th>\n",
       "      <th>rainfall</th>\n",
       "      <th>school_day</th>\n",
       "      <th>holiday</th>\n",
       "    </tr>\n",
       "  </thead>\n",
       "  <tbody>\n",
       "    <tr>\n",
       "      <th>0</th>\n",
       "      <td>2015-01-01</td>\n",
       "      <td>99635.030</td>\n",
       "      <td>25.633696</td>\n",
       "      <td>97319.240</td>\n",
       "      <td>26.415953</td>\n",
       "      <td>2315.790</td>\n",
       "      <td>-7.240000</td>\n",
       "      <td>0.020833</td>\n",
       "      <td>13.3</td>\n",
       "      <td>26.9</td>\n",
       "      <td>23.6</td>\n",
       "      <td>0.0</td>\n",
       "      <td>N</td>\n",
       "      <td>Y</td>\n",
       "    </tr>\n",
       "    <tr>\n",
       "      <th>1</th>\n",
       "      <td>2015-01-02</td>\n",
       "      <td>129606.010</td>\n",
       "      <td>33.138988</td>\n",
       "      <td>121082.015</td>\n",
       "      <td>38.837661</td>\n",
       "      <td>8523.995</td>\n",
       "      <td>-47.809777</td>\n",
       "      <td>0.062500</td>\n",
       "      <td>15.4</td>\n",
       "      <td>38.8</td>\n",
       "      <td>26.8</td>\n",
       "      <td>0.0</td>\n",
       "      <td>N</td>\n",
       "      <td>N</td>\n",
       "    </tr>\n",
       "    <tr>\n",
       "      <th>2</th>\n",
       "      <td>2015-01-03</td>\n",
       "      <td>142300.540</td>\n",
       "      <td>34.564855</td>\n",
       "      <td>142300.540</td>\n",
       "      <td>34.564855</td>\n",
       "      <td>0.000</td>\n",
       "      <td>0.000000</td>\n",
       "      <td>0.000000</td>\n",
       "      <td>20.0</td>\n",
       "      <td>38.2</td>\n",
       "      <td>26.5</td>\n",
       "      <td>0.0</td>\n",
       "      <td>N</td>\n",
       "      <td>N</td>\n",
       "    </tr>\n",
       "    <tr>\n",
       "      <th>3</th>\n",
       "      <td>2015-01-04</td>\n",
       "      <td>104330.715</td>\n",
       "      <td>25.005560</td>\n",
       "      <td>104330.715</td>\n",
       "      <td>25.005560</td>\n",
       "      <td>0.000</td>\n",
       "      <td>0.000000</td>\n",
       "      <td>0.000000</td>\n",
       "      <td>16.3</td>\n",
       "      <td>21.4</td>\n",
       "      <td>25.2</td>\n",
       "      <td>4.2</td>\n",
       "      <td>N</td>\n",
       "      <td>N</td>\n",
       "    </tr>\n",
       "    <tr>\n",
       "      <th>4</th>\n",
       "      <td>2015-01-05</td>\n",
       "      <td>118132.200</td>\n",
       "      <td>26.724176</td>\n",
       "      <td>118132.200</td>\n",
       "      <td>26.724176</td>\n",
       "      <td>0.000</td>\n",
       "      <td>0.000000</td>\n",
       "      <td>0.000000</td>\n",
       "      <td>15.0</td>\n",
       "      <td>22.0</td>\n",
       "      <td>30.7</td>\n",
       "      <td>0.0</td>\n",
       "      <td>N</td>\n",
       "      <td>N</td>\n",
       "    </tr>\n",
       "  </tbody>\n",
       "</table>\n",
       "</div>"
      ],
      "text/plain": [
       "         date      demand        RRP  demand_pos_RRP  RRP_positive  \\\n",
       "0  2015-01-01   99635.030  25.633696       97319.240     26.415953   \n",
       "1  2015-01-02  129606.010  33.138988      121082.015     38.837661   \n",
       "2  2015-01-03  142300.540  34.564855      142300.540     34.564855   \n",
       "3  2015-01-04  104330.715  25.005560      104330.715     25.005560   \n",
       "4  2015-01-05  118132.200  26.724176      118132.200     26.724176   \n",
       "\n",
       "   demand_neg_RRP  RRP_negative  frac_at_neg_RRP  min_temperature  \\\n",
       "0        2315.790     -7.240000         0.020833             13.3   \n",
       "1        8523.995    -47.809777         0.062500             15.4   \n",
       "2           0.000      0.000000         0.000000             20.0   \n",
       "3           0.000      0.000000         0.000000             16.3   \n",
       "4           0.000      0.000000         0.000000             15.0   \n",
       "\n",
       "   max_temperature  solar_exposure  rainfall school_day holiday  \n",
       "0             26.9            23.6       0.0          N       Y  \n",
       "1             38.8            26.8       0.0          N       N  \n",
       "2             38.2            26.5       0.0          N       N  \n",
       "3             21.4            25.2       4.2          N       N  \n",
       "4             22.0            30.7       0.0          N       N  "
      ]
     },
     "execution_count": 3,
     "metadata": {},
     "output_type": "execute_result"
    }
   ],
   "source": [
    "data.head()"
   ]
  },
  {
   "cell_type": "code",
   "execution_count": 4,
   "id": "8e153a11-b614-4aef-ad71-ad9529a292bc",
   "metadata": {},
   "outputs": [
    {
     "data": {
      "text/html": [
       "<div>\n",
       "<style scoped>\n",
       "    .dataframe tbody tr th:only-of-type {\n",
       "        vertical-align: middle;\n",
       "    }\n",
       "\n",
       "    .dataframe tbody tr th {\n",
       "        vertical-align: top;\n",
       "    }\n",
       "\n",
       "    .dataframe thead th {\n",
       "        text-align: right;\n",
       "    }\n",
       "</style>\n",
       "<table border=\"1\" class=\"dataframe\">\n",
       "  <thead>\n",
       "    <tr style=\"text-align: right;\">\n",
       "      <th></th>\n",
       "      <th>date</th>\n",
       "      <th>demand</th>\n",
       "      <th>RRP</th>\n",
       "      <th>demand_pos_RRP</th>\n",
       "      <th>RRP_positive</th>\n",
       "      <th>demand_neg_RRP</th>\n",
       "      <th>RRP_negative</th>\n",
       "      <th>frac_at_neg_RRP</th>\n",
       "      <th>min_temperature</th>\n",
       "      <th>max_temperature</th>\n",
       "      <th>solar_exposure</th>\n",
       "      <th>rainfall</th>\n",
       "      <th>school_day</th>\n",
       "      <th>holiday</th>\n",
       "    </tr>\n",
       "  </thead>\n",
       "  <tbody>\n",
       "    <tr>\n",
       "      <th>2101</th>\n",
       "      <td>2020-10-02</td>\n",
       "      <td>99585.835</td>\n",
       "      <td>-6.076028</td>\n",
       "      <td>41988.240</td>\n",
       "      <td>26.980251</td>\n",
       "      <td>57597.595</td>\n",
       "      <td>-30.173823</td>\n",
       "      <td>0.625000</td>\n",
       "      <td>12.8</td>\n",
       "      <td>26.0</td>\n",
       "      <td>22.0</td>\n",
       "      <td>0.0</td>\n",
       "      <td>N</td>\n",
       "      <td>N</td>\n",
       "    </tr>\n",
       "    <tr>\n",
       "      <th>2102</th>\n",
       "      <td>2020-10-03</td>\n",
       "      <td>92277.025</td>\n",
       "      <td>-1.983471</td>\n",
       "      <td>44133.510</td>\n",
       "      <td>32.438156</td>\n",
       "      <td>48143.515</td>\n",
       "      <td>-33.538025</td>\n",
       "      <td>0.583333</td>\n",
       "      <td>17.4</td>\n",
       "      <td>29.4</td>\n",
       "      <td>19.8</td>\n",
       "      <td>0.0</td>\n",
       "      <td>N</td>\n",
       "      <td>N</td>\n",
       "    </tr>\n",
       "    <tr>\n",
       "      <th>2103</th>\n",
       "      <td>2020-10-04</td>\n",
       "      <td>94081.565</td>\n",
       "      <td>25.008614</td>\n",
       "      <td>88580.995</td>\n",
       "      <td>26.571687</td>\n",
       "      <td>5500.570</td>\n",
       "      <td>-0.163066</td>\n",
       "      <td>0.062500</td>\n",
       "      <td>13.5</td>\n",
       "      <td>29.5</td>\n",
       "      <td>8.4</td>\n",
       "      <td>0.0</td>\n",
       "      <td>N</td>\n",
       "      <td>N</td>\n",
       "    </tr>\n",
       "    <tr>\n",
       "      <th>2104</th>\n",
       "      <td>2020-10-05</td>\n",
       "      <td>113610.030</td>\n",
       "      <td>36.764701</td>\n",
       "      <td>106587.375</td>\n",
       "      <td>39.616015</td>\n",
       "      <td>7022.655</td>\n",
       "      <td>-6.511550</td>\n",
       "      <td>0.083333</td>\n",
       "      <td>9.1</td>\n",
       "      <td>12.7</td>\n",
       "      <td>7.3</td>\n",
       "      <td>12.8</td>\n",
       "      <td>N</td>\n",
       "      <td>N</td>\n",
       "    </tr>\n",
       "    <tr>\n",
       "      <th>2105</th>\n",
       "      <td>2020-10-06</td>\n",
       "      <td>122607.560</td>\n",
       "      <td>75.771059</td>\n",
       "      <td>122607.560</td>\n",
       "      <td>75.771059</td>\n",
       "      <td>0.000</td>\n",
       "      <td>0.000000</td>\n",
       "      <td>0.000000</td>\n",
       "      <td>8.9</td>\n",
       "      <td>12.6</td>\n",
       "      <td>5.8</td>\n",
       "      <td>1.0</td>\n",
       "      <td>N</td>\n",
       "      <td>N</td>\n",
       "    </tr>\n",
       "  </tbody>\n",
       "</table>\n",
       "</div>"
      ],
      "text/plain": [
       "            date      demand        RRP  demand_pos_RRP  RRP_positive  \\\n",
       "2101  2020-10-02   99585.835  -6.076028       41988.240     26.980251   \n",
       "2102  2020-10-03   92277.025  -1.983471       44133.510     32.438156   \n",
       "2103  2020-10-04   94081.565  25.008614       88580.995     26.571687   \n",
       "2104  2020-10-05  113610.030  36.764701      106587.375     39.616015   \n",
       "2105  2020-10-06  122607.560  75.771059      122607.560     75.771059   \n",
       "\n",
       "      demand_neg_RRP  RRP_negative  frac_at_neg_RRP  min_temperature  \\\n",
       "2101       57597.595    -30.173823         0.625000             12.8   \n",
       "2102       48143.515    -33.538025         0.583333             17.4   \n",
       "2103        5500.570     -0.163066         0.062500             13.5   \n",
       "2104        7022.655     -6.511550         0.083333              9.1   \n",
       "2105           0.000      0.000000         0.000000              8.9   \n",
       "\n",
       "      max_temperature  solar_exposure  rainfall school_day holiday  \n",
       "2101             26.0            22.0       0.0          N       N  \n",
       "2102             29.4            19.8       0.0          N       N  \n",
       "2103             29.5             8.4       0.0          N       N  \n",
       "2104             12.7             7.3      12.8          N       N  \n",
       "2105             12.6             5.8       1.0          N       N  "
      ]
     },
     "execution_count": 4,
     "metadata": {},
     "output_type": "execute_result"
    }
   ],
   "source": [
    "data.tail()"
   ]
  },
  {
   "cell_type": "code",
   "execution_count": 5,
   "id": "57970cd5-4dd1-43c0-aabd-f09a2b24a383",
   "metadata": {},
   "outputs": [
    {
     "name": "stdout",
     "output_type": "stream",
     "text": [
      "<class 'pandas.core.frame.DataFrame'>\n",
      "RangeIndex: 2106 entries, 0 to 2105\n",
      "Data columns (total 14 columns):\n",
      " #   Column           Non-Null Count  Dtype  \n",
      "---  ------           --------------  -----  \n",
      " 0   date             2106 non-null   object \n",
      " 1   demand           2106 non-null   float64\n",
      " 2   RRP              2106 non-null   float64\n",
      " 3   demand_pos_RRP   2106 non-null   float64\n",
      " 4   RRP_positive     2106 non-null   float64\n",
      " 5   demand_neg_RRP   2106 non-null   float64\n",
      " 6   RRP_negative     2106 non-null   float64\n",
      " 7   frac_at_neg_RRP  2106 non-null   float64\n",
      " 8   min_temperature  2106 non-null   float64\n",
      " 9   max_temperature  2106 non-null   float64\n",
      " 10  solar_exposure   2105 non-null   float64\n",
      " 11  rainfall         2103 non-null   float64\n",
      " 12  school_day       2106 non-null   object \n",
      " 13  holiday          2106 non-null   object \n",
      "dtypes: float64(11), object(3)\n",
      "memory usage: 230.5+ KB\n"
     ]
    }
   ],
   "source": [
    "data.info()"
   ]
  },
  {
   "cell_type": "code",
   "execution_count": 6,
   "id": "c633580d-3d22-439a-aa79-938ea531a9ba",
   "metadata": {},
   "outputs": [
    {
     "data": {
      "text/plain": [
       "Index(['date', 'demand', 'RRP', 'demand_pos_RRP', 'RRP_positive',\n",
       "       'demand_neg_RRP', 'RRP_negative', 'frac_at_neg_RRP', 'min_temperature',\n",
       "       'max_temperature', 'solar_exposure', 'rainfall', 'school_day',\n",
       "       'holiday'],\n",
       "      dtype='object')"
      ]
     },
     "execution_count": 6,
     "metadata": {},
     "output_type": "execute_result"
    }
   ],
   "source": [
    "data.columns\n",
    "#Required: \n",
    "#Demand - Demand, demand_pos, demand_neg\n",
    "#price - RRP = Regional Reference Price, RRP_pos, RRP_neg\n",
    "#Weather - min_temp, max_temp, solar_exposure, rainfall, school_day, holiday"
   ]
  },
  {
   "cell_type": "code",
   "execution_count": 7,
   "id": "cc425c01-d363-4381-90ed-ea3f87ac5916",
   "metadata": {},
   "outputs": [],
   "source": [
    "# RRP: Regional Reference Price in dollars.  \n",
    "# demand_pos_RRP: Electricity demand at positive RRP in megawatt-hours (MWh).  \n",
    "# RRP_positive: Positive Regional Reference Price in dollars.  \n",
    "# demand_neg_RRP: Electricity demand at negative RRP in megawatt-hours (MWh).  \n",
    "# RRP_negative: Negative Regional Reference Price in dollars.  \n",
    "# frac_at_neg_RRP: Fraction of time at negative RRP (unitless).  \n",
    "# min_temperature: Minimum daily temperature in degrees Celsius (°C).  \n",
    "# max_temperature: Maximum daily temperature in degrees Celsius (°C).  \n",
    "# solar_exposure: Daily solar exposure in megajoules per square meter (MJ/m²).  \n",
    "# rainfall: Daily rainfall in millimeters (mm).  \n",
    "# school_day: Indicates whether it is a school day (Yes/No).  \n",
    "# holiday: Indicates whether it is a holiday (Yes/No).  "
   ]
  },
  {
   "cell_type": "code",
   "execution_count": 8,
   "id": "347e9d73-03e5-4f77-a2a7-9c7b7228c4a3",
   "metadata": {},
   "outputs": [
    {
     "data": {
      "text/html": [
       "<div>\n",
       "<style scoped>\n",
       "    .dataframe tbody tr th:only-of-type {\n",
       "        vertical-align: middle;\n",
       "    }\n",
       "\n",
       "    .dataframe tbody tr th {\n",
       "        vertical-align: top;\n",
       "    }\n",
       "\n",
       "    .dataframe thead th {\n",
       "        text-align: right;\n",
       "    }\n",
       "</style>\n",
       "<table border=\"1\" class=\"dataframe\">\n",
       "  <thead>\n",
       "    <tr style=\"text-align: right;\">\n",
       "      <th></th>\n",
       "      <th>demand</th>\n",
       "      <th>RRP</th>\n",
       "      <th>demand_pos_RRP</th>\n",
       "      <th>RRP_positive</th>\n",
       "      <th>demand_neg_RRP</th>\n",
       "      <th>RRP_negative</th>\n",
       "      <th>frac_at_neg_RRP</th>\n",
       "      <th>min_temperature</th>\n",
       "      <th>max_temperature</th>\n",
       "      <th>solar_exposure</th>\n",
       "      <th>rainfall</th>\n",
       "    </tr>\n",
       "  </thead>\n",
       "  <tbody>\n",
       "    <tr>\n",
       "      <th>count</th>\n",
       "      <td>2106.000000</td>\n",
       "      <td>2106.000000</td>\n",
       "      <td>2106.000000</td>\n",
       "      <td>2106.000000</td>\n",
       "      <td>2106.000000</td>\n",
       "      <td>2106.000000</td>\n",
       "      <td>2106.000000</td>\n",
       "      <td>2106.000000</td>\n",
       "      <td>2106.000000</td>\n",
       "      <td>2105.000000</td>\n",
       "      <td>2103.000000</td>\n",
       "    </tr>\n",
       "    <tr>\n",
       "      <th>mean</th>\n",
       "      <td>120035.476503</td>\n",
       "      <td>76.079554</td>\n",
       "      <td>119252.305055</td>\n",
       "      <td>76.553847</td>\n",
       "      <td>783.171448</td>\n",
       "      <td>-2.686052</td>\n",
       "      <td>0.008547</td>\n",
       "      <td>11.582289</td>\n",
       "      <td>20.413200</td>\n",
       "      <td>14.743373</td>\n",
       "      <td>1.505944</td>\n",
       "    </tr>\n",
       "    <tr>\n",
       "      <th>std</th>\n",
       "      <td>13747.993761</td>\n",
       "      <td>130.246805</td>\n",
       "      <td>14818.631319</td>\n",
       "      <td>130.114184</td>\n",
       "      <td>3578.920686</td>\n",
       "      <td>19.485432</td>\n",
       "      <td>0.039963</td>\n",
       "      <td>4.313711</td>\n",
       "      <td>6.288693</td>\n",
       "      <td>7.945527</td>\n",
       "      <td>4.307897</td>\n",
       "    </tr>\n",
       "    <tr>\n",
       "      <th>min</th>\n",
       "      <td>85094.375000</td>\n",
       "      <td>-6.076028</td>\n",
       "      <td>41988.240000</td>\n",
       "      <td>13.568986</td>\n",
       "      <td>0.000000</td>\n",
       "      <td>-342.220000</td>\n",
       "      <td>0.000000</td>\n",
       "      <td>0.600000</td>\n",
       "      <td>9.000000</td>\n",
       "      <td>0.700000</td>\n",
       "      <td>0.000000</td>\n",
       "    </tr>\n",
       "    <tr>\n",
       "      <th>25%</th>\n",
       "      <td>109963.650000</td>\n",
       "      <td>38.707040</td>\n",
       "      <td>109246.250000</td>\n",
       "      <td>39.117361</td>\n",
       "      <td>0.000000</td>\n",
       "      <td>0.000000</td>\n",
       "      <td>0.000000</td>\n",
       "      <td>8.500000</td>\n",
       "      <td>15.525000</td>\n",
       "      <td>8.200000</td>\n",
       "      <td>0.000000</td>\n",
       "    </tr>\n",
       "    <tr>\n",
       "      <th>50%</th>\n",
       "      <td>119585.912500</td>\n",
       "      <td>66.596738</td>\n",
       "      <td>119148.082500</td>\n",
       "      <td>66.869058</td>\n",
       "      <td>0.000000</td>\n",
       "      <td>0.000000</td>\n",
       "      <td>0.000000</td>\n",
       "      <td>11.300000</td>\n",
       "      <td>19.100000</td>\n",
       "      <td>12.700000</td>\n",
       "      <td>0.000000</td>\n",
       "    </tr>\n",
       "    <tr>\n",
       "      <th>75%</th>\n",
       "      <td>130436.006250</td>\n",
       "      <td>95.075012</td>\n",
       "      <td>130119.477500</td>\n",
       "      <td>95.130181</td>\n",
       "      <td>0.000000</td>\n",
       "      <td>0.000000</td>\n",
       "      <td>0.000000</td>\n",
       "      <td>14.600000</td>\n",
       "      <td>23.900000</td>\n",
       "      <td>20.700000</td>\n",
       "      <td>0.800000</td>\n",
       "    </tr>\n",
       "    <tr>\n",
       "      <th>max</th>\n",
       "      <td>170653.840000</td>\n",
       "      <td>4549.645105</td>\n",
       "      <td>170653.840000</td>\n",
       "      <td>4549.645105</td>\n",
       "      <td>57597.595000</td>\n",
       "      <td>0.000000</td>\n",
       "      <td>0.625000</td>\n",
       "      <td>28.000000</td>\n",
       "      <td>43.500000</td>\n",
       "      <td>33.300000</td>\n",
       "      <td>54.600000</td>\n",
       "    </tr>\n",
       "  </tbody>\n",
       "</table>\n",
       "</div>"
      ],
      "text/plain": [
       "              demand          RRP  demand_pos_RRP  RRP_positive  \\\n",
       "count    2106.000000  2106.000000     2106.000000   2106.000000   \n",
       "mean   120035.476503    76.079554   119252.305055     76.553847   \n",
       "std     13747.993761   130.246805    14818.631319    130.114184   \n",
       "min     85094.375000    -6.076028    41988.240000     13.568986   \n",
       "25%    109963.650000    38.707040   109246.250000     39.117361   \n",
       "50%    119585.912500    66.596738   119148.082500     66.869058   \n",
       "75%    130436.006250    95.075012   130119.477500     95.130181   \n",
       "max    170653.840000  4549.645105   170653.840000   4549.645105   \n",
       "\n",
       "       demand_neg_RRP  RRP_negative  frac_at_neg_RRP  min_temperature  \\\n",
       "count     2106.000000   2106.000000      2106.000000      2106.000000   \n",
       "mean       783.171448     -2.686052         0.008547        11.582289   \n",
       "std       3578.920686     19.485432         0.039963         4.313711   \n",
       "min          0.000000   -342.220000         0.000000         0.600000   \n",
       "25%          0.000000      0.000000         0.000000         8.500000   \n",
       "50%          0.000000      0.000000         0.000000        11.300000   \n",
       "75%          0.000000      0.000000         0.000000        14.600000   \n",
       "max      57597.595000      0.000000         0.625000        28.000000   \n",
       "\n",
       "       max_temperature  solar_exposure     rainfall  \n",
       "count      2106.000000     2105.000000  2103.000000  \n",
       "mean         20.413200       14.743373     1.505944  \n",
       "std           6.288693        7.945527     4.307897  \n",
       "min           9.000000        0.700000     0.000000  \n",
       "25%          15.525000        8.200000     0.000000  \n",
       "50%          19.100000       12.700000     0.000000  \n",
       "75%          23.900000       20.700000     0.800000  \n",
       "max          43.500000       33.300000    54.600000  "
      ]
     },
     "execution_count": 8,
     "metadata": {},
     "output_type": "execute_result"
    }
   ],
   "source": [
    "data.describe()"
   ]
  },
  {
   "cell_type": "code",
   "execution_count": 9,
   "id": "4689bbaf-ccc2-4d51-9d3e-e80649b4821d",
   "metadata": {},
   "outputs": [
    {
     "data": {
      "text/plain": [
       "date               0\n",
       "demand             0\n",
       "RRP                0\n",
       "demand_pos_RRP     0\n",
       "RRP_positive       0\n",
       "demand_neg_RRP     0\n",
       "RRP_negative       0\n",
       "frac_at_neg_RRP    0\n",
       "min_temperature    0\n",
       "max_temperature    0\n",
       "solar_exposure     1\n",
       "rainfall           3\n",
       "school_day         0\n",
       "holiday            0\n",
       "dtype: int64"
      ]
     },
     "execution_count": 9,
     "metadata": {},
     "output_type": "execute_result"
    }
   ],
   "source": [
    "data.isnull().sum()"
   ]
  },
  {
   "cell_type": "code",
   "execution_count": 10,
   "id": "2146a726-d2af-4da0-953b-b29f080d895a",
   "metadata": {},
   "outputs": [
    {
     "data": {
      "text/plain": [
       "date                object\n",
       "demand             float64\n",
       "RRP                float64\n",
       "demand_pos_RRP     float64\n",
       "RRP_positive       float64\n",
       "demand_neg_RRP     float64\n",
       "RRP_negative       float64\n",
       "frac_at_neg_RRP    float64\n",
       "min_temperature    float64\n",
       "max_temperature    float64\n",
       "solar_exposure     float64\n",
       "rainfall           float64\n",
       "school_day          object\n",
       "holiday             object\n",
       "dtype: object"
      ]
     },
     "execution_count": 10,
     "metadata": {},
     "output_type": "execute_result"
    }
   ],
   "source": [
    "data.dtypes"
   ]
  },
  {
   "cell_type": "code",
   "execution_count": 11,
   "id": "b9030000-3d75-402a-a2f5-b5541589509d",
   "metadata": {},
   "outputs": [
    {
     "data": {
      "text/plain": [
       "array([25.63369643, 33.13898756, 34.56485483, ..., 25.0086136 ,\n",
       "       36.76470052, 75.77105901])"
      ]
     },
     "execution_count": 11,
     "metadata": {},
     "output_type": "execute_result"
    }
   ],
   "source": [
    "data['RRP'].unique()"
   ]
  },
  {
   "cell_type": "code",
   "execution_count": 12,
   "id": "ece66e35-6c38-496c-9089-ffc871195c26",
   "metadata": {},
   "outputs": [
    {
     "data": {
      "text/plain": [
       "RRP\n",
       "25.633696     1\n",
       "96.501966     1\n",
       "111.573365    1\n",
       "105.451832    1\n",
       "76.672204     1\n",
       "             ..\n",
       "65.392779     1\n",
       "37.003945     1\n",
       "23.790583     1\n",
       "27.616491     1\n",
       "75.771059     1\n",
       "Name: count, Length: 2106, dtype: int64"
      ]
     },
     "execution_count": 12,
     "metadata": {},
     "output_type": "execute_result"
    }
   ],
   "source": [
    "data['RRP'].value_counts()"
   ]
  },
  {
   "cell_type": "code",
   "execution_count": 13,
   "id": "94d7a99b-65cf-4522-88b6-390fd588724e",
   "metadata": {},
   "outputs": [
    {
     "data": {
      "text/plain": [
       "<Axes: title={'center': 'Electricity Demand and Price Over Time'}, xlabel='date'>"
      ]
     },
     "execution_count": 13,
     "metadata": {},
     "output_type": "execute_result"
    },
    {
     "data": {
      "image/png": "[encoded data removed]",
      "text/plain": [
       "<Figure size 640x480 with 1 Axes>"
      ]
     },
     "metadata": {},
     "output_type": "display_data"
    }
   ],
   "source": [
    "data.plot(x='date', y=['demand', 'RRP'], title='Electricity Demand and Price Over Time')"
   ]
  },
  {
   "cell_type": "code",
   "execution_count": 14,
   "id": "f6418e60-3b32-4f6d-b4f3-172e538d36f9",
   "metadata": {},
   "outputs": [
    {
     "data": {
      "text/plain": [
       "<Axes: title={'center': 'Electricity Demand vs Min Temperature'}, xlabel='min_temperature', ylabel='demand'>"
      ]
     },
     "execution_count": 14,
     "metadata": {},
     "output_type": "execute_result"
    },
    {
     "data": {
      "image/png": "[encoded data removed]",
      "text/plain": [
       "<Figure size 640x480 with 1 Axes>"
      ]
     },
     "metadata": {},
     "output_type": "display_data"
    }
   ],
   "source": [
    "data.plot.scatter(x='min_temperature', y='demand', title='Electricity Demand vs Min Temperature')"
   ]
  },
  {
   "cell_type": "code",
   "execution_count": null,
   "id": "9c6135b1-7e99-4de6-bc58-0bee6afc07bb",
   "metadata": {},
   "outputs": [],
   "source": []
  }
 ],
 "metadata": {
  "kernelspec": {
   "display_name": "Python [conda env:base] *",
   "language": "python",
   "name": "conda-base-py"
  },
  "language_info": {
   "codemirror_mode": {
    "name": "ipython",
    "version": 3
   },
   "file_extension": ".py",
   "mimetype": "text/x-python",
   "name": "python",
   "nbconvert_exporter": "python",
   "pygments_lexer": "ipython3",
   "version": "3.12.7"
  }
 },
 "nbformat": 4,
 "nbformat_minor": 5
}
